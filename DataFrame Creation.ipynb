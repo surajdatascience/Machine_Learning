{
 "cells": [
  {
   "cell_type": "markdown",
   "id": "b78f9417",
   "metadata": {},
   "source": [
    "### Making Dataframe"
   ]
  },
  {
   "cell_type": "code",
   "execution_count": 1,
   "id": "adda1723",
   "metadata": {},
   "outputs": [],
   "source": [
    "import pandas as pd"
   ]
  },
  {
   "cell_type": "code",
   "execution_count": 2,
   "id": "829afb17",
   "metadata": {},
   "outputs": [],
   "source": [
    "import numpy as np"
   ]
  },
  {
   "cell_type": "code",
   "execution_count": 6,
   "id": "e603bad5",
   "metadata": {},
   "outputs": [],
   "source": [
    "import warnings "
   ]
  },
  {
   "cell_type": "code",
   "execution_count": 8,
   "id": "df0e41d6",
   "metadata": {},
   "outputs": [],
   "source": [
    "warnings.filterwarnings('ignore')"
   ]
  },
  {
   "cell_type": "markdown",
   "id": "6f518a30",
   "metadata": {},
   "source": [
    "#### Creating Series"
   ]
  },
  {
   "cell_type": "code",
   "execution_count": 16,
   "id": "c294e05a",
   "metadata": {},
   "outputs": [],
   "source": [
    "my_series=pd.Series([5,6,7,8])"
   ]
  },
  {
   "cell_type": "code",
   "execution_count": 17,
   "id": "c7ae9f29",
   "metadata": {},
   "outputs": [
    {
     "data": {
      "text/plain": [
       "dtype('int64')"
      ]
     },
     "execution_count": 17,
     "metadata": {},
     "output_type": "execute_result"
    }
   ],
   "source": [
    "my_series.dtype"
   ]
  },
  {
   "cell_type": "markdown",
   "id": "fddb283a",
   "metadata": {},
   "source": [
    "#### Convert to list"
   ]
  },
  {
   "cell_type": "code",
   "execution_count": 18,
   "id": "56cd2c06",
   "metadata": {},
   "outputs": [
    {
     "data": {
      "text/plain": [
       "<bound method IndexOpsMixin.tolist of 0    5\n",
       "1    6\n",
       "2    7\n",
       "3    8\n",
       "dtype: int64>"
      ]
     },
     "execution_count": 18,
     "metadata": {},
     "output_type": "execute_result"
    }
   ],
   "source": [
    "my_series.tolist"
   ]
  },
  {
   "cell_type": "markdown",
   "id": "7fe3b9ab",
   "metadata": {},
   "source": [
    "#### Empty DataFrame"
   ]
  },
  {
   "cell_type": "code",
   "execution_count": 19,
   "id": "0dcfae7c",
   "metadata": {},
   "outputs": [
    {
     "name": "stdout",
     "output_type": "stream",
     "text": [
      "Empty DataFrame\n",
      "Columns: []\n",
      "Index: []\n"
     ]
    }
   ],
   "source": [
    "my_df=pd.DataFrame()\n",
    "print(my_df)"
   ]
  },
  {
   "cell_type": "markdown",
   "id": "331c23b5",
   "metadata": {},
   "source": [
    "#### Dataframe using List of lists"
   ]
  },
  {
   "cell_type": "code",
   "execution_count": 33,
   "id": "54cd6d22",
   "metadata": {},
   "outputs": [],
   "source": [
    "scores1=[['Maths',20],['English',25],['Science',19]]"
   ]
  },
  {
   "cell_type": "code",
   "execution_count": 34,
   "id": "53c5801d",
   "metadata": {},
   "outputs": [
    {
     "data": {
      "text/plain": [
       "[['Maths', 20], ['English', 25], ['Science', 19]]"
      ]
     },
     "execution_count": 34,
     "metadata": {},
     "output_type": "execute_result"
    }
   ],
   "source": [
    "scores1"
   ]
  },
  {
   "cell_type": "code",
   "execution_count": 35,
   "id": "b5f12f4c",
   "metadata": {},
   "outputs": [],
   "source": [
    "df1=pd.DataFrame(Scores, columns = ['Subject','Mark'])"
   ]
  },
  {
   "cell_type": "code",
   "execution_count": 36,
   "id": "0af8f64b",
   "metadata": {},
   "outputs": [
    {
     "data": {
      "text/html": [
       "<div>\n",
       "<style scoped>\n",
       "    .dataframe tbody tr th:only-of-type {\n",
       "        vertical-align: middle;\n",
       "    }\n",
       "\n",
       "    .dataframe tbody tr th {\n",
       "        vertical-align: top;\n",
       "    }\n",
       "\n",
       "    .dataframe thead th {\n",
       "        text-align: right;\n",
       "    }\n",
       "</style>\n",
       "<table border=\"1\" class=\"dataframe\">\n",
       "  <thead>\n",
       "    <tr style=\"text-align: right;\">\n",
       "      <th></th>\n",
       "      <th>Subject</th>\n",
       "      <th>Mark</th>\n",
       "    </tr>\n",
       "  </thead>\n",
       "  <tbody>\n",
       "    <tr>\n",
       "      <th>0</th>\n",
       "      <td>Maths</td>\n",
       "      <td>20</td>\n",
       "    </tr>\n",
       "    <tr>\n",
       "      <th>1</th>\n",
       "      <td>English</td>\n",
       "      <td>25</td>\n",
       "    </tr>\n",
       "    <tr>\n",
       "      <th>2</th>\n",
       "      <td>Science</td>\n",
       "      <td>19</td>\n",
       "    </tr>\n",
       "  </tbody>\n",
       "</table>\n",
       "</div>"
      ],
      "text/plain": [
       "   Subject  Mark\n",
       "0    Maths    20\n",
       "1  English    25\n",
       "2  Science    19"
      ]
     },
     "execution_count": 36,
     "metadata": {},
     "output_type": "execute_result"
    }
   ],
   "source": [
    "df1"
   ]
  },
  {
   "cell_type": "code",
   "execution_count": null,
   "id": "c93ab6ab",
   "metadata": {},
   "outputs": [],
   "source": []
  },
  {
   "cell_type": "code",
   "execution_count": 38,
   "id": "4d37df07",
   "metadata": {},
   "outputs": [],
   "source": [
    "scores2={'Subject':['Maths','English','Science'],'Scores':[98,75,68]}"
   ]
  },
  {
   "cell_type": "code",
   "execution_count": 39,
   "id": "9c8c7d47",
   "metadata": {},
   "outputs": [
    {
     "data": {
      "text/plain": [
       "{'Subject': ['Maths', 'English', 'Science'], 'Scores': [98, 75, 68]}"
      ]
     },
     "execution_count": 39,
     "metadata": {},
     "output_type": "execute_result"
    }
   ],
   "source": [
    "scores2"
   ]
  },
  {
   "cell_type": "markdown",
   "id": "d430a7bb",
   "metadata": {},
   "source": [
    "#### DataFrame using List of Dictionaries"
   ]
  },
  {
   "cell_type": "code",
   "execution_count": 41,
   "id": "8e59a92f",
   "metadata": {},
   "outputs": [],
   "source": [
    "scores3=[\n",
    "        {'Subject':\"Maths\",'Score':85},\n",
    "        {'Subject':\"English\",'Score':75},\n",
    "        {'Subject':\"Science\",'Score':65}\n",
    "            ]"
   ]
  },
  {
   "cell_type": "code",
   "execution_count": 42,
   "id": "8748fc45",
   "metadata": {},
   "outputs": [
    {
     "data": {
      "text/plain": [
       "[{'Subject': 'Maths', 'Score': 85},\n",
       " {'Subject': 'English', 'Score': 75},\n",
       " {'Subject': 'Science', 'Score': 65}]"
      ]
     },
     "execution_count": 42,
     "metadata": {},
     "output_type": "execute_result"
    }
   ],
   "source": [
    "scores"
   ]
  },
  {
   "cell_type": "code",
   "execution_count": null,
   "id": "17a681ee",
   "metadata": {},
   "outputs": [],
   "source": []
  }
 ],
 "metadata": {
  "kernelspec": {
   "display_name": "Python 3 (ipykernel)",
   "language": "python",
   "name": "python3"
  },
  "language_info": {
   "codemirror_mode": {
    "name": "ipython",
    "version": 3
   },
   "file_extension": ".py",
   "mimetype": "text/x-python",
   "name": "python",
   "nbconvert_exporter": "python",
   "pygments_lexer": "ipython3",
   "version": "3.9.13"
  }
 },
 "nbformat": 4,
 "nbformat_minor": 5
}
